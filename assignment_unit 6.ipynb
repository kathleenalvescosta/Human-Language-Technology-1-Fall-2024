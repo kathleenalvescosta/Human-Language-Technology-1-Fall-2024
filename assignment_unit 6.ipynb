{
 "cells": [
  {
   "cell_type": "markdown",
   "metadata": {
    "deletable": false,
    "editable": false,
    "nbgrader": {
     "cell_type": "markdown",
     "checksum": "a25678c9993c1c2bbf0167f2ff03c982",
     "grade": false,
     "grade_id": "header-instructions",
     "locked": true,
     "schema_version": 3,
     "solution": false,
     "task": false
    }
   },
   "source": [
    "## Tips\n",
    "- To avoid unpleasant surprises, I suggest you _run all cells in their order of appearance_ (__Cell__ $\\rightarrow$ __Run All__).\n",
    "\n",
    "\n",
    "- If the changes you've made to your solution don't seem to be showing up, try running __Kernel__ $\\rightarrow$ __Restart & Run All__ from the menu.\n",
    "\n",
    "\n",
    "- Before submitting your assignment, make sure everything runs as expected. First, restart the kernel (from the menu, select __Kernel__ $\\rightarrow$ __Restart__) and then **run all cells** (from the menu, select __Cell__ $\\rightarrow$ __Run All__).\n",
    "\n",
    "## Reminder\n",
    "\n",
    "- Make sure you fill in any place that says `YOUR CODE HERE` or \"YOUR ANSWER HERE\", as well as your name, UA email, and collaborators below:\n",
    "\n",
    "\n",
    "\n",
    "Several of the cells in this notebook are **read only** to ensure instructions aren't unintentionally altered.  \n",
    "\n",
    "If you can't edit the cell, it is probably intentional."
   ]
  },
  {
   "cell_type": "code",
   "execution_count": 1,
   "metadata": {},
   "outputs": [],
   "source": [
    "NAME = \"Kathleen Costa\"\n",
    "# University of Arizona email address\n",
    "EMAIL = \"kathleencosta@arizona.edu\"\n",
    "# Names of any collaborators.  Write N/A if none.\n",
    "COLLABORATORS = \"N/A\""
   ]
  },
  {
   "cell_type": "markdown",
   "metadata": {
    "deletable": false,
    "editable": false,
    "nbgrader": {
     "cell_type": "markdown",
     "checksum": "0783621da2f047c6360f2ec0d56f121c",
     "grade": false,
     "grade_id": "cell-e35b85c2416e40f3",
     "locked": true,
     "schema_version": 3,
     "solution": false,
     "task": false
    }
   },
   "source": [
    "## Scratchpad\n",
    "\n",
    "You are welcome to create new cells (see the __Cell__ menu) to experiment and debug your solution."
   ]
  },
  {
   "cell_type": "code",
   "execution_count": 2,
   "metadata": {
    "deletable": false,
    "editable": false,
    "nbgrader": {
     "cell_type": "code",
     "checksum": "c80ac423030cfa372644d7cd456061af",
     "grade": false,
     "grade_id": "cell-955f8133afe96b26",
     "locked": true,
     "schema_version": 3,
     "solution": false,
     "task": false
    }
   },
   "outputs": [],
   "source": [
    "%load_ext autoreload\n",
    "%autoreload 2"
   ]
  },
  {
   "cell_type": "markdown",
   "metadata": {
    "deletable": false,
    "editable": false,
    "nbgrader": {
     "cell_type": "markdown",
     "checksum": "776264c84ca2ffc29ee3695115f9945e",
     "grade": false,
     "grade_id": "cell-a2292c2fbc4cf52e",
     "locked": true,
     "schema_version": 3,
     "solution": false,
     "task": false
    }
   },
   "source": [
    "# Mini Python tutorial\n",
    "\n",
    "This course uses Python 3.11.\n",
    "\n",
    "Below is a very basic (and incomplete) overview of the Python language... \n",
    "\n",
    "For those completely new to Python, [this section of the official documentation may be useful](https://docs.python.org/3.11/library/stdtypes.html#common-sequence-operations)."
   ]
  },
  {
   "cell_type": "code",
   "execution_count": 3,
   "metadata": {
    "deletable": false,
    "editable": false,
    "nbgrader": {
     "cell_type": "code",
     "checksum": "3eb435ae7649ab2e5de50f02ff27fd26",
     "grade": false,
     "grade_id": "cell-d6593132353238c5",
     "locked": true,
     "schema_version": 3,
     "solution": false,
     "task": false
    }
   },
   "outputs": [
    {
     "name": "stdout",
     "output_type": "stream",
     "text": [
      "h\n",
      "e\n",
      "l\n",
      "l\n",
      "o\n",
      "[2, 3, 4, 5]\n",
      "[2]\n",
      "hello, Josuke!\n",
      "Howdy, partner!\n",
      "13\n",
      "Hi, Fred!\n",
      "[('radical', 4), ('analysis', 7), ('bighorn', 12), ('bounce', 32)]\n",
      "[('analysis', 7), ('bighorn', 12), ('bounce', 32), ('radical', 4)]\n"
     ]
    }
   ],
   "source": [
    "# This is a comment.  \n",
    "# Any line starting with # will be interpreted as a comment\n",
    "\n",
    "# this is a string assigned to a variable\n",
    "greeting = \"hello\"\n",
    "\n",
    "# If enclosed in triple quotes, strings can also be multiline:\n",
    "\n",
    "\"\"\"\n",
    "I'm a multiline\n",
    "string.\n",
    "\"\"\"\n",
    "\n",
    "# let's use a for loop to print it letter by letter\n",
    "for letter in greeting:\n",
    "    print(letter)\n",
    "    \n",
    "# Did you notice the indentation there?  Whitespace matters in Python!\n",
    "\n",
    "# here's a list of integers\n",
    "\n",
    "numbers = [1, 2, 3, 4]\n",
    "\n",
    "# let's add one to each number using a list comprehension\n",
    "# and assign the result to a variable called res\n",
    "# list comprehensions are used widely in Python (they're very Pythonic!)\n",
    "\n",
    "res = [num + 1 for num in numbers]\n",
    "\n",
    "# let's confirm that it worked\n",
    "print(res)\n",
    "\n",
    "# now let's try spicing things up using a conditional to filter out all values greater than or equal to 3...\n",
    "print([num for num in res if not num >= 3])\n",
    "\n",
    "# Python 3.7 introduced \"f-strings\" as a convenient way of formatting strings using templates\n",
    "# For example ...\n",
    "name = \"Josuke\"\n",
    "\n",
    "print(f\"{greeting}, {name}!\")\n",
    "\n",
    "# f-strings are f-ing convenient!\n",
    "\n",
    "\n",
    "# let's look at defining functions in Python..\n",
    "\n",
    "def greet(name):\n",
    "    print(f\"Howdy, {name}!\")\n",
    "\n",
    "# here's how we call it...\n",
    "\n",
    "greet(\"partner\")\n",
    "\n",
    "# let's add a description of the function...\n",
    "\n",
    "def greet(name):\n",
    "    \"\"\"\n",
    "    Prints a greeting given some name.\n",
    "    \n",
    "    :param name: the name to be addressed in the greeting\n",
    "    :type name: str\n",
    "    \n",
    "    \"\"\"\n",
    "    print(f\"Howdy, {name}!\")\n",
    "    \n",
    "# I encourage you to use docstrings!\n",
    "\n",
    "# Python introduced support for optional type hints in v3.5.\n",
    "# You can read more aobut this feature here: https://docs.python.org/3.7/library/typing.html\n",
    "# let's give it a try...\n",
    "def add_six(num: int) -> int:\n",
    "    return num + 6\n",
    "\n",
    "# this should print 13\n",
    "print(add_six(7))\n",
    "\n",
    "# Python also has \"anonymous functions\" (also known as \"lambda\" functions)\n",
    "# take a look at the following code:\n",
    "\n",
    "greet_alt = lambda name: print(f\"Hi, {name}!\")\n",
    "\n",
    "greet_alt(\"Fred\")\n",
    "\n",
    "# lambda functions are often passed to other functions\n",
    "# For example, they can be used to specify how a sequence should be sorted\n",
    "# let's sort a list of pairs by their second element\n",
    "pairs = [(\"bounce\", 32), (\"bighorn\", 12), (\"radical\", 4), (\"analysis\", 7)]\n",
    "# -1 is last thing in some sequence, -2 is the second to last thing in some seq, etc.\n",
    "print(sorted(pairs, key=lambda pair: pair[-1]))\n",
    "\n",
    "# we can sort it by the first element instead\n",
    "# NOTE: python indexing is zero-based\n",
    "print(sorted(pairs, key=lambda pair: pair[0]))\n",
    "\n",
    "# You can learn more about other core data types and their methods here: \n",
    "# https://docs.python.org/3.7/library/stdtypes.html\n",
    "\n",
    "# Because of its extensive standard library, Python is often described as coming with \"batteries included\".  \n",
    "# Take a look at these \"batteries\": https://docs.python.org/3.7/library/\n",
    "\n",
    "# You now know enough to complete this homework assignment (or at least where to look)"
   ]
  },
  {
   "cell_type": "code",
   "execution_count": 4,
   "metadata": {
    "deletable": false,
    "editable": false,
    "nbgrader": {
     "cell_type": "code",
     "checksum": "3f9dd30a0819840e8e61159da9ecd388",
     "grade": false,
     "grade_id": "cell-f709ce43cf53a191",
     "locked": true,
     "schema_version": 3,
     "solution": false,
     "task": false
    }
   },
   "outputs": [],
   "source": [
    "from typing import Any, Callable, Dict, Iterable, List, Tuple, Union\n",
    "from collections import Counter\n",
    "from math import isclose"
   ]
  },
  {
   "cell_type": "code",
   "execution_count": 5,
   "metadata": {
    "deletable": false,
    "editable": false,
    "nbgrader": {
     "cell_type": "code",
     "checksum": "cf20f090156ae69ce506bcfb04a3db05",
     "grade": false,
     "grade_id": "cell-e3986bc150e45c95",
     "locked": true,
     "schema_version": 3,
     "solution": false,
     "task": false
    }
   },
   "outputs": [],
   "source": [
    "# we'll be using this for some of our tests\n",
    "def test_isclose(x: List[float], y: List[float], rel_tol=1.e-6) -> bool:\n",
    "    if len(x) != len(y):\n",
    "        return False\n",
    "    for i in range(len(x)):\n",
    "        if not isclose(x[i], y[i], rel_tol=rel_tol):\n",
    "            return False\n",
    "    return True"
   ]
  },
  {
   "cell_type": "markdown",
   "metadata": {
    "deletable": false,
    "editable": false,
    "nbgrader": {
     "cell_type": "markdown",
     "checksum": "6ef263d792d1f7818863593e67c51296",
     "grade": false,
     "grade_id": "cell-1887ca4820987d24",
     "locked": true,
     "schema_version": 3,
     "solution": false,
     "task": false
    }
   },
   "source": [
    "# Overview\n",
    "\n",
    "In this assignment, you will write functions to ... \n",
    "\n",
    "- calculate the dot product\n",
    "\n",
    "- calculate Euclidean distance\n",
    "\n",
    "- normalize a vector\n",
    "\n",
    "- calculate cosine similarity and cosine distance\n",
    "\n",
    "- identify the centroid of a set of vectors\n",
    "\n",
    "- identify the medoid of a set of vectors"
   ]
  },
  {
   "cell_type": "markdown",
   "metadata": {
    "deletable": false,
    "editable": false,
    "nbgrader": {
     "cell_type": "markdown",
     "checksum": "2b892859ffc798dd6604a246e82d1d94",
     "grade": false,
     "grade_id": "cell-4766e335cf929823",
     "locked": true,
     "schema_version": 3,
     "solution": false,
     "task": false
    }
   },
   "source": [
    "# Vector math from scratch\n",
    "\n",
    "You're going to be implementing all of the functions listed above in pure Python (no external dependencies).  By now you've seen the math and implementations in [NumPy (**num**erical **Py**thon)](https://numpy.org/).  While using NumPy would be far more efficient, this is an exercise geared toward deepening our understanding of these concepts."
   ]
  },
  {
   "cell_type": "markdown",
   "metadata": {
    "deletable": false,
    "editable": false,
    "nbgrader": {
     "cell_type": "markdown",
     "checksum": "42d5b4092d66e45d6e7fdc7bff96e615",
     "grade": false,
     "grade_id": "cell-a551642773f662c8",
     "locked": true,
     "schema_version": 3,
     "solution": false,
     "task": false
    }
   },
   "source": [
    "# Warm-up\n",
    "\n",
    "It's important to stretch before exercising to avoid injury.  Likewise, let's warm up our programming muscles by scaling some vectors."
   ]
  },
  {
   "cell_type": "markdown",
   "metadata": {
    "deletable": false,
    "editable": false,
    "nbgrader": {
     "cell_type": "markdown",
     "checksum": "dfab5784839dd39173d3dd5d4e2f0989",
     "grade": false,
     "grade_id": "cell-90ff6292cc28fc79",
     "locked": true,
     "schema_version": 3,
     "solution": false,
     "task": false
    }
   },
   "source": [
    "## Scalar division\n",
    "\n",
    "Implement the function `divide_by_scalar` which should divide each element in a list of floats by a scalar value."
   ]
  },
  {
   "cell_type": "code",
   "execution_count": 6,
   "metadata": {
    "deletable": false,
    "nbgrader": {
     "cell_type": "code",
     "checksum": "83ec336460fa603d50a833e5e1921295",
     "grade": false,
     "grade_id": "cell-f9fb6f774b34fc1e",
     "locked": false,
     "schema_version": 3,
     "solution": true,
     "task": false
    }
   },
   "outputs": [],
   "source": [
    "def divide_by_scalar(x: List[float], scalar: int) -> List[float]:\n",
    "    \"\"\"\n",
    "    Takes a list of floats representing the vector $x$ and divides each element by a scalar value.\n",
    "    \"\"\"\n",
    "    # YOUR CODE HERE\n",
    "    if scalar == 0:\n",
    "        raise ValueError(\"Cannot divide by zero!\")\n",
    "    \n",
    "    return [elem / scalar for elem in x]"
   ]
  },
  {
   "cell_type": "code",
   "execution_count": 7,
   "metadata": {
    "deletable": false,
    "editable": false,
    "nbgrader": {
     "cell_type": "code",
     "checksum": "b4f396d779f7d32827eb9dc672c7930a",
     "grade": true,
     "grade_id": "cell-d183ad85507a574c",
     "locked": true,
     "points": 1,
     "schema_version": 3,
     "solution": false,
     "task": false
    }
   },
   "outputs": [],
   "source": [
    "# verify the NumPy module is not in scope\n",
    "assert \"numpy\" not in dir()\n",
    "\n",
    "assert divide_by_scalar([12., 3., 5.3], 4) == [3.0, 0.75, 1.325]\n",
    "assert divide_by_scalar([0., 0., 0.], 17) == [0., 0., 0.]"
   ]
  },
  {
   "cell_type": "markdown",
   "metadata": {
    "deletable": false,
    "editable": false,
    "nbgrader": {
     "cell_type": "markdown",
     "checksum": "b5bdfd73b29916c48c9ebaba69d6413e",
     "grade": false,
     "grade_id": "cell-eb6fd8f86041b2bc",
     "locked": true,
     "schema_version": 3,
     "solution": false,
     "task": false
    }
   },
   "source": [
    "# Normalizing vectors\n",
    "\n",
    "Let's implement some methods to calculate distance from the origin and normalize vectors."
   ]
  },
  {
   "cell_type": "markdown",
   "metadata": {
    "deletable": false,
    "editable": false,
    "nbgrader": {
     "cell_type": "markdown",
     "checksum": "c41733d5db42983f86ac35cefeec4e3a",
     "grade": false,
     "grade_id": "cell-c92fd766dd7b1bd8",
     "locked": true,
     "schema_version": 3,
     "solution": false,
     "task": false
    }
   },
   "source": [
    "## `p_norm`\n",
    "\n",
    "Implement the function `p_norm` to calculate the $p$-norm according to the following formula: \n",
    "\n",
    "$$\n",
    "\\vert \\vert x \\vert \\vert{}_{p} = [\\sum_{i=0}^{\\vert x \\vert} abs(x_{i})^{p}]^{\\frac{1}{p}}\n",
    "$$\n",
    "\n",
    "This should take a list representing $\\vec{x}$ and return the $p$-norm for $\\vec{x}$."
   ]
  },
  {
   "cell_type": "code",
   "execution_count": 8,
   "metadata": {
    "deletable": false,
    "nbgrader": {
     "cell_type": "code",
     "checksum": "4fc1362560349fa64db6aaa4a2317eeb",
     "grade": false,
     "grade_id": "cell-f0b2a0dd285a4f1f",
     "locked": false,
     "schema_version": 3,
     "solution": true,
     "task": false
    }
   },
   "outputs": [],
   "source": [
    "def p_norm(x: List[float], p: int) -> float:\n",
    "    assert p >= 1\n",
    "    \"\"\"\n",
    "    Takes a List (x) representing a vector and p.\n",
    "    Returns the $p$-norm for $\\vec{x}$.\n",
    "    \"\"\"\n",
    "    # YOUR CODE HERE\n",
    "    assert p >= 1, \"p should be a positive integer greater than or equal to 1\"\n",
    "    \n",
    "    return sum(abs(xi) ** p for xi in x) ** (1 / p)"
   ]
  },
  {
   "cell_type": "code",
   "execution_count": 9,
   "metadata": {
    "deletable": false,
    "editable": false,
    "nbgrader": {
     "cell_type": "code",
     "checksum": "b6db85d61bf42de09cefe77f1eb217ba",
     "grade": true,
     "grade_id": "cell-1d80af31d2655fd1",
     "locked": true,
     "points": 1,
     "schema_version": 3,
     "solution": false,
     "task": false
    }
   },
   "outputs": [],
   "source": [
    "# verify the NumPy module is not in scope\n",
    "assert \"numpy\" not in dir()\n",
    "\n",
    "# the L1 norm\n",
    "assert isclose(p_norm([1., 2., 3.], p=1), 6., rel_tol=1.e-0)"
   ]
  },
  {
   "cell_type": "code",
   "execution_count": 10,
   "metadata": {
    "deletable": false,
    "editable": false,
    "nbgrader": {
     "cell_type": "code",
     "checksum": "234342a1465a40b38930e491124818ed",
     "grade": true,
     "grade_id": "cell-c5fce0e9b484341a",
     "locked": true,
     "points": 1,
     "schema_version": 3,
     "solution": false,
     "task": false
    }
   },
   "outputs": [],
   "source": [
    "# verify the NumPy module is not in scope\n",
    "assert \"numpy\" not in dir()\n",
    "\n",
    "# the L2 norm\n",
    "assert isclose(p_norm([1., 2., 3.], p=2), 3.74165738, rel_tol=1.e-6)"
   ]
  },
  {
   "cell_type": "code",
   "execution_count": 11,
   "metadata": {
    "deletable": false,
    "editable": false,
    "nbgrader": {
     "cell_type": "code",
     "checksum": "d445ca294066576369cb70ef593c90f4",
     "grade": true,
     "grade_id": "cell-bee99bf1e79f9d9e",
     "locked": true,
     "points": 1,
     "schema_version": 3,
     "solution": false,
     "task": false
    }
   },
   "outputs": [],
   "source": [
    "# verify the NumPy module is not in scope\n",
    "assert \"numpy\" not in dir()\n",
    "\n",
    "assert isclose(p_norm([1., 2., 3.], p=3), 3.301927, rel_tol=1.e-6)"
   ]
  },
  {
   "cell_type": "code",
   "execution_count": 12,
   "metadata": {
    "deletable": false,
    "editable": false,
    "nbgrader": {
     "cell_type": "code",
     "checksum": "8d9f20ddd8d223212c60634188191cf3",
     "grade": true,
     "grade_id": "cell-3d4cc66d6dd5b305",
     "locked": true,
     "points": 1,
     "schema_version": 3,
     "solution": false,
     "task": false
    }
   },
   "outputs": [],
   "source": [
    "# verify the NumPy module is not in scope\n",
    "assert \"numpy\" not in dir()\n",
    "\n",
    "assert p_norm([1., 2., 3.], p=1) == 6"
   ]
  },
  {
   "cell_type": "code",
   "execution_count": 13,
   "metadata": {
    "deletable": false,
    "editable": false,
    "nbgrader": {
     "cell_type": "code",
     "checksum": "d957ff5780f125a428d13c29c0ee76da",
     "grade": true,
     "grade_id": "cell-b3f9526f2acd13a4",
     "locked": true,
     "points": 1,
     "schema_version": 3,
     "solution": false,
     "task": false
    }
   },
   "outputs": [],
   "source": [
    "# verify the NumPy module is not in scope\n",
    "assert \"numpy\" not in dir()\n",
    "\n",
    "assert isclose(p_norm([7., 14., 3.], p=2), 15.9373774, rel_tol=1.e-6)"
   ]
  },
  {
   "cell_type": "markdown",
   "metadata": {
    "deletable": false,
    "editable": false,
    "nbgrader": {
     "cell_type": "markdown",
     "checksum": "3d30c1881c2261fe681d764bc86fd7e8",
     "grade": false,
     "grade_id": "cell-881f721461492858",
     "locked": true,
     "schema_version": 3,
     "solution": false,
     "task": false
    }
   },
   "source": [
    "## Vector normalization\n",
    "\n",
    "The normalized form of a vector $\\textbf{x}$ uses the 2-norm (Euclidean norm) to normalize each term in some vector $\\mathbf{x}$:\n",
    "    \n",
    "    \n",
    "$$\n",
    "\\begin{aligned}\n",
    "\\text{norm}(\\mathbf{x}) &= \\frac{\\mathbf{x}}{\\vert \\vert  x \\vert \\vert_{2}}\n",
    "\\\\[1em]\n",
    "&= \\frac{\\mathbf{x}}{\\left[\\sum_{i=0}^{\\vert \\mathbf{x} \\vert} abs(x_{i})^{2}\\right]^{\\frac{1}{2}}}\n",
    "\\\\[1em]\n",
    "&= \\frac{\\mathbf{x}}{\\sqrt{\\sum_{i=0}^{\\vert \\mathbf{x} \\vert} abs(x_{i})^{2}}}\n",
    "\\end{aligned}\n",
    "$$"
   ]
  },
  {
   "cell_type": "code",
   "execution_count": 14,
   "metadata": {
    "deletable": false,
    "nbgrader": {
     "cell_type": "code",
     "checksum": "7e22a7ecb3607223eb4669c0aff87650",
     "grade": false,
     "grade_id": "cell-ecadb414cfc35ee7",
     "locked": false,
     "schema_version": 3,
     "solution": true,
     "task": false
    }
   },
   "outputs": [],
   "source": [
    "def normalize(x: List[float]) -> List[float]:\n",
    "    \"\"\"\n",
    "    Returns the 2-norm of the vector x.\n",
    "    \"\"\"\n",
    "    # YOUR CODE HERE\n",
    "    norm = sum(xi ** 2 for xi in x) ** 0.5\n",
    "    \n",
    "    if norm == 0:\n",
    "        return [0 for xi in x] \n",
    "    return [xi / norm for xi in x]"
   ]
  },
  {
   "cell_type": "code",
   "execution_count": 15,
   "metadata": {
    "deletable": false,
    "editable": false,
    "nbgrader": {
     "cell_type": "code",
     "checksum": "6a0925612d199f6358369c081dfcb16d",
     "grade": true,
     "grade_id": "cell-ca122481690b7a62",
     "locked": true,
     "points": 1,
     "schema_version": 3,
     "solution": false,
     "task": false
    }
   },
   "outputs": [],
   "source": [
    "# verify the NumPy module is not in scope\n",
    "assert \"numpy\" not in dir()\n",
    "\n",
    "assert test_isclose(normalize([1., 2., 3.]), [0.26726124, 0.53452248, 0.80178373], rel_tol=1.e-6)"
   ]
  },
  {
   "cell_type": "code",
   "execution_count": 16,
   "metadata": {
    "deletable": false,
    "editable": false,
    "nbgrader": {
     "cell_type": "code",
     "checksum": "d08d4a5dd2d12086a86bbde2fcdd0638",
     "grade": true,
     "grade_id": "cell-cd147030e714486d",
     "locked": true,
     "points": 1,
     "schema_version": 3,
     "solution": false,
     "task": false
    }
   },
   "outputs": [],
   "source": [
    "# verify the NumPy module is not in scope\n",
    "assert \"numpy\" not in dir()\n",
    "\n",
    "assert test_isclose(normalize([10., 20., 30.]), [0.26726124, 0.53452248, 0.80178373], rel_tol=1.e-6)"
   ]
  },
  {
   "cell_type": "code",
   "execution_count": 17,
   "metadata": {
    "deletable": false,
    "editable": false,
    "nbgrader": {
     "cell_type": "code",
     "checksum": "2ed5a2eb27f064bc0d8be70728a0cca0",
     "grade": true,
     "grade_id": "cell-0a05808454142996",
     "locked": true,
     "points": 1,
     "schema_version": 3,
     "solution": false,
     "task": false
    }
   },
   "outputs": [],
   "source": [
    "# verify the NumPy module is not in scope\n",
    "assert \"numpy\" not in dir()\n",
    "\n",
    "assert test_isclose(normalize([100., 200., 300.]), [0.26726124, 0.53452248, 0.80178373], rel_tol=1.e-6)"
   ]
  },
  {
   "cell_type": "code",
   "execution_count": 18,
   "metadata": {
    "deletable": false,
    "editable": false,
    "nbgrader": {
     "cell_type": "code",
     "checksum": "301a33bdda51f88a7f0c4b4a7bccf354",
     "grade": true,
     "grade_id": "cell-664b4d476d5f6b80",
     "locked": true,
     "points": 1,
     "schema_version": 3,
     "solution": false,
     "task": false
    }
   },
   "outputs": [],
   "source": [
    "# verify the NumPy module is not in scope\n",
    "assert \"numpy\" not in dir()\n",
    "\n",
    "assert test_isclose(normalize([1000., 2000., 3000.]), [0.26726124, 0.53452248, 0.80178373], rel_tol=1.e-6)"
   ]
  },
  {
   "cell_type": "code",
   "execution_count": 19,
   "metadata": {
    "deletable": false,
    "editable": false,
    "nbgrader": {
     "cell_type": "code",
     "checksum": "5e7a8b937ecf99a14c2c1aa2065f0f96",
     "grade": true,
     "grade_id": "cell-eac14c40e001d7b2",
     "locked": true,
     "points": 1,
     "schema_version": 3,
     "solution": false,
     "task": false
    }
   },
   "outputs": [],
   "source": [
    "# verify the NumPy module is not in scope\n",
    "assert \"numpy\" not in dir()\n",
    "\n",
    "assert test_isclose(normalize([52., -2., 13.]), [0.96946785, -0.03728723, 0.24236696], rel_tol=1e-05)"
   ]
  },
  {
   "cell_type": "code",
   "execution_count": 20,
   "metadata": {
    "deletable": false,
    "editable": false,
    "nbgrader": {
     "cell_type": "code",
     "checksum": "86780cf3c1d641151ec24a84bf384962",
     "grade": true,
     "grade_id": "cell-88e2f559f73bff9c",
     "locked": true,
     "points": 1,
     "schema_version": 3,
     "solution": false,
     "task": false
    }
   },
   "outputs": [],
   "source": [
    "# verify the NumPy module is not in scope\n",
    "assert \"numpy\" not in dir()\n",
    "\n",
    "assert test_isclose(normalize([520., -20., 130.]), [0.96946785, -0.03728723, 0.24236696], rel_tol=1e-05)"
   ]
  },
  {
   "cell_type": "code",
   "execution_count": 21,
   "metadata": {
    "deletable": false,
    "editable": false,
    "nbgrader": {
     "cell_type": "code",
     "checksum": "95d42cde3b3d3a5408e059631c8776f1",
     "grade": true,
     "grade_id": "cell-0c0d88e0df3c5110",
     "locked": true,
     "points": 1,
     "schema_version": 3,
     "solution": false,
     "task": false
    }
   },
   "outputs": [],
   "source": [
    "# verify the NumPy module is not in scope\n",
    "assert \"numpy\" not in dir()\n",
    "\n",
    "\n",
    "# HINT: There are several ways to avoid a divide-by-zero error; \n",
    "# you can check for zero values before dividing, \n",
    "# but another method is to use a *really* small number instead of zero\n",
    "\n",
    "assert test_isclose(normalize([0., 0., 0.]), [0., 0., 0.], rel_tol=1e-02)"
   ]
  },
  {
   "cell_type": "markdown",
   "metadata": {
    "deletable": false,
    "editable": false,
    "nbgrader": {
     "cell_type": "markdown",
     "checksum": "288f2f806bb79f3f540e7a734e5f198f",
     "grade": false,
     "grade_id": "cell-b1ee1a43f9ccf37c",
     "locked": true,
     "schema_version": 3,
     "solution": false,
     "task": false
    }
   },
   "source": [
    "# Comparing vectors\n",
    "\n",
    "Now that we can measure **magnitude** (L2 norm), we can explore measuring distance in terms magnitude, direction, or both."
   ]
  },
  {
   "cell_type": "markdown",
   "metadata": {
    "deletable": false,
    "editable": false,
    "nbgrader": {
     "cell_type": "markdown",
     "checksum": "25b7f6e024a88daaa9653f394b9761e5",
     "grade": false,
     "grade_id": "cell-f64ddfe5927c4a02",
     "locked": true,
     "schema_version": 3,
     "solution": false,
     "task": false
    }
   },
   "source": [
    "## Dot product\n",
    "\n",
    "Implement the function `dot_product`. This should take two lists representing $\\vec{x}$ and $\\vec{y}$ and return a single number.\n",
    "\n",
    "Notes:\n",
    "- the two lists must have the same number of dimensions "
   ]
  },
  {
   "cell_type": "code",
   "execution_count": 22,
   "metadata": {
    "deletable": false,
    "nbgrader": {
     "cell_type": "code",
     "checksum": "57483488b1d818a11f9a152563654963",
     "grade": false,
     "grade_id": "cell-61af8e7a542daed6",
     "locked": false,
     "schema_version": 3,
     "solution": true,
     "task": false
    }
   },
   "outputs": [],
   "source": [
    "def dot_product(x: List[float], y: List[float]) -> float:\n",
    "    \"\"\"\n",
    "    Returns the inner product of two 1D vectors.\n",
    "    \"\"\"\n",
    "    assert len(x) == len(y)\n",
    "    # YOUR CODE HERE\n",
    "    return sum(xi * yi for xi, yi in zip(x, y))"
   ]
  },
  {
   "cell_type": "code",
   "execution_count": 23,
   "metadata": {
    "deletable": false,
    "editable": false,
    "nbgrader": {
     "cell_type": "code",
     "checksum": "1fb8ecfdcf4358142ed19f86489fbaec",
     "grade": true,
     "grade_id": "cell-9d480581d048f27f",
     "locked": true,
     "points": 1,
     "schema_version": 3,
     "solution": false,
     "task": false
    }
   },
   "outputs": [],
   "source": [
    "# verify the NumPy module is not in scope\n",
    "assert \"numpy\" not in dir()\n",
    "\n",
    "assert dot_product([0., 0., 0.],   [0., 0., 0.]) == 0."
   ]
  },
  {
   "cell_type": "code",
   "execution_count": 24,
   "metadata": {
    "deletable": false,
    "editable": false,
    "nbgrader": {
     "cell_type": "code",
     "checksum": "68ad62c1f00ec6dcb5e0deb91b541ed0",
     "grade": true,
     "grade_id": "cell-15a5a29d62ff60d6",
     "locked": true,
     "points": 1,
     "schema_version": 3,
     "solution": false,
     "task": false
    }
   },
   "outputs": [],
   "source": [
    "# verify the NumPy module is not in scope\n",
    "assert \"numpy\" not in dir()\n",
    "\n",
    "assert dot_product([0., 2., 0.],   [0., 0., 0.]) == 0."
   ]
  },
  {
   "cell_type": "code",
   "execution_count": 25,
   "metadata": {
    "deletable": false,
    "editable": false,
    "nbgrader": {
     "cell_type": "code",
     "checksum": "44d42eba494ba4e14c5182b848d05d5f",
     "grade": true,
     "grade_id": "cell-414e07a849804d0c",
     "locked": true,
     "points": 1,
     "schema_version": 3,
     "solution": false,
     "task": false
    }
   },
   "outputs": [],
   "source": [
    "# verify the NumPy module is not in scope\n",
    "assert \"numpy\" not in dir()\n",
    "\n",
    "assert dot_product([0., 0., 0.],   [0., 2., 0.]) == 0."
   ]
  },
  {
   "cell_type": "code",
   "execution_count": 26,
   "metadata": {
    "deletable": false,
    "editable": false,
    "nbgrader": {
     "cell_type": "code",
     "checksum": "374960a0054411912527f37240cf4b8a",
     "grade": true,
     "grade_id": "cell-4212376a50d617b3",
     "locked": true,
     "points": 1,
     "schema_version": 3,
     "solution": false,
     "task": false
    }
   },
   "outputs": [],
   "source": [
    "# verify the NumPy module is not in scope\n",
    "assert \"numpy\" not in dir()\n",
    "\n",
    "assert dot_product([12., 3., 7.], [2., 4., 4.]) == 64."
   ]
  },
  {
   "cell_type": "markdown",
   "metadata": {
    "deletable": false,
    "editable": false,
    "nbgrader": {
     "cell_type": "markdown",
     "checksum": "a2d9e09de50809ce90180a37aef0ff3b",
     "grade": false,
     "grade_id": "cell-415df5a9b9072814",
     "locked": true,
     "schema_version": 3,
     "solution": false,
     "task": false
    }
   },
   "source": [
    "## `euclidean_distance`\n",
    "\n",
    "$\\text{d}(\\mathbf{a}, \\mathbf{b}) = \\sqrt{\\sum_{i=0}^{\\vert \\mathbf{a} \\vert} (a_{i} - b_{i})^{2}}$ where $\\text{d}$ represent the Euclidean distance of vectors $\\mathbf{a}$ and $\\mathbf{b}$.\n",
    "\n",
    "Implement the function `euclidean_distance`. This should take two lists representing $\\vec{x}$ and $\\vec{y}$ and return a single number."
   ]
  },
  {
   "cell_type": "code",
   "execution_count": 27,
   "metadata": {
    "deletable": false,
    "nbgrader": {
     "cell_type": "code",
     "checksum": "ca688135202a90562ab60152a4bb8901",
     "grade": false,
     "grade_id": "cell-33628eb13ae97d30",
     "locked": false,
     "schema_version": 3,
     "solution": true,
     "task": false
    }
   },
   "outputs": [],
   "source": [
    "def euclidean_distance(x: List[float], y: List[float]) -> float:\n",
    "    \"\"\"\n",
    "    Returns in the Euclidean distance of two 1D vectors.\n",
    "    \"\"\"\n",
    "    # YOUR CODE HERE\n",
    "    squared_diff_sum = sum((xi - yi) ** 2 for xi, yi in zip(x, y))\n",
    "    \n",
    "    return squared_diff_sum ** 0.5"
   ]
  },
  {
   "cell_type": "code",
   "execution_count": 28,
   "metadata": {
    "deletable": false,
    "editable": false,
    "nbgrader": {
     "cell_type": "code",
     "checksum": "48e4179b96d60cff15d10e9b8198fa84",
     "grade": true,
     "grade_id": "cell-d3378aeb39de8228",
     "locked": true,
     "points": 1,
     "schema_version": 3,
     "solution": false,
     "task": false
    }
   },
   "outputs": [],
   "source": [
    "# verify the NumPy module is not in scope\n",
    "assert \"numpy\" not in dir()\n",
    "\n",
    "assert euclidean_distance([1., 2., 3.], [1., 2., 3.]) == 0."
   ]
  },
  {
   "cell_type": "code",
   "execution_count": 29,
   "metadata": {
    "deletable": false,
    "editable": false,
    "nbgrader": {
     "cell_type": "code",
     "checksum": "c93e1673497e4da174fa74aba7fef1d8",
     "grade": true,
     "grade_id": "cell-cc121bbc40eab257",
     "locked": true,
     "points": 1,
     "schema_version": 3,
     "solution": false,
     "task": false
    }
   },
   "outputs": [],
   "source": [
    "# verify the NumPy module is not in scope\n",
    "assert \"numpy\" not in dir()\n",
    "\n",
    "assert euclidean_distance([1., 2., 3.], [2., 2., 3.]) == 1."
   ]
  },
  {
   "cell_type": "code",
   "execution_count": 30,
   "metadata": {
    "deletable": false,
    "editable": false,
    "nbgrader": {
     "cell_type": "code",
     "checksum": "50c021be3641a16ba4913de2f57917e9",
     "grade": true,
     "grade_id": "cell-b2829e2d37249348",
     "locked": true,
     "points": 1,
     "schema_version": 3,
     "solution": false,
     "task": false
    }
   },
   "outputs": [],
   "source": [
    "# verify the NumPy module is not in scope\n",
    "assert \"numpy\" not in dir()\n",
    "\n",
    "assert euclidean_distance([1., 2., 3.], [0., 2., 3.]) == 1."
   ]
  },
  {
   "cell_type": "code",
   "execution_count": 31,
   "metadata": {
    "deletable": false,
    "editable": false,
    "nbgrader": {
     "cell_type": "code",
     "checksum": "b8b486b820b308624790c502846206ac",
     "grade": true,
     "grade_id": "cell-ae6dd818c861a073",
     "locked": true,
     "points": 1,
     "schema_version": 3,
     "solution": false,
     "task": false
    }
   },
   "outputs": [],
   "source": [
    "# verify the NumPy module is not in scope\n",
    "assert \"numpy\" not in dir()\n",
    "\n",
    "# The Euclidean distance of some vector $v$ and the origin is equal to the L2 norm of $v$\n",
    "assert euclidean_distance([1., 2., 3.], [0., 0., 0.]) == p_norm([1., 2., 3.], p=2)"
   ]
  },
  {
   "cell_type": "markdown",
   "metadata": {
    "deletable": false,
    "editable": false,
    "nbgrader": {
     "cell_type": "markdown",
     "checksum": "e5bc6a0c53b64f9b259257a6ad2201be",
     "grade": false,
     "grade_id": "cell-596cdfa649ebe603",
     "locked": true,
     "schema_version": 3,
     "solution": false,
     "task": false
    }
   },
   "source": [
    "## Cosine similarity\n",
    "\n",
    "$$\n",
    "\\begin{aligned}\n",
    "cos(\\mathbf{a}, \\mathbf{b}) &= \\frac{\\mathbf{a} \\cdot \\mathbf{b}}{\\vert \\vert a \\vert \\vert_{2}  \\times \\vert \\vert b \\vert \\vert_{2}}\n",
    "\\end{aligned}\n",
    "$$\n",
    "Implement a method that calculates the cosine similarity of a pair of vectors."
   ]
  },
  {
   "cell_type": "code",
   "execution_count": 32,
   "metadata": {
    "deletable": false,
    "nbgrader": {
     "cell_type": "code",
     "checksum": "7405f44b6c61a92188db54f88ec425de",
     "grade": false,
     "grade_id": "cell-dc629e60da20d82e",
     "locked": false,
     "schema_version": 3,
     "solution": true,
     "task": false
    }
   },
   "outputs": [],
   "source": [
    "def cosine_similarity(x: List[float], y: List[float]) -> float:\n",
    "    \"\"\"\n",
    "    Calculates the cosine similarity of two vectors.\n",
    "    \"\"\"\n",
    "    # YOUR CODE HERE\n",
    "    dot_prod = dot_product(x, y)\n",
    "    norm_x = p_norm(x, 2)\n",
    "    norm_y = p_norm(y, 2)\n",
    "    \n",
    "    return dot_prod / (norm_x * norm_y) if norm_x != 0 and norm_y != 0 else 0"
   ]
  },
  {
   "cell_type": "code",
   "execution_count": 33,
   "metadata": {
    "deletable": false,
    "editable": false,
    "nbgrader": {
     "cell_type": "code",
     "checksum": "715eeb503d4f733f9c2a6ca99a448236",
     "grade": true,
     "grade_id": "cell-ab5a6c75a2cab391",
     "locked": true,
     "points": 1,
     "schema_version": 3,
     "solution": false,
     "task": false
    }
   },
   "outputs": [],
   "source": [
    "# verify the NumPy module is not in scope\n",
    "assert \"numpy\" not in dir()\n",
    "\n",
    "assert isclose(cosine_similarity([100., 200., 300.], [100., 200., 300.]), 1., rel_tol=1.e-6)"
   ]
  },
  {
   "cell_type": "code",
   "execution_count": 34,
   "metadata": {
    "deletable": false,
    "editable": false,
    "nbgrader": {
     "cell_type": "code",
     "checksum": "51372ed55878ce073ae40a37434aa9ca",
     "grade": true,
     "grade_id": "cell-699c738b228c61e2",
     "locked": true,
     "points": 1,
     "schema_version": 3,
     "solution": false,
     "task": false
    }
   },
   "outputs": [],
   "source": [
    "# verify the NumPy module is not in scope\n",
    "assert \"numpy\" not in dir()\n",
    "\n",
    "assert isclose(cosine_similarity([100., 200., 300.], [0.26726124, 0.53452248, 0.80178373]), 1., rel_tol=1.e-6) "
   ]
  },
  {
   "cell_type": "code",
   "execution_count": 35,
   "metadata": {
    "deletable": false,
    "editable": false,
    "nbgrader": {
     "cell_type": "code",
     "checksum": "4f273736c45fe81cb111a2af39206df9",
     "grade": true,
     "grade_id": "cell-be32f4bf64d55ed1",
     "locked": true,
     "points": 1,
     "schema_version": 3,
     "solution": false,
     "task": false
    }
   },
   "outputs": [],
   "source": [
    "# verify the NumPy module is not in scope\n",
    "assert \"numpy\" not in dir()\n",
    "\n",
    "assert isclose(cosine_similarity([2., 2., 2.], [-2., -2., -2.]), -1., rel_tol=1.e-2)"
   ]
  },
  {
   "cell_type": "code",
   "execution_count": 36,
   "metadata": {
    "deletable": false,
    "editable": false,
    "nbgrader": {
     "cell_type": "code",
     "checksum": "68f79ee36b244ea69578b47d65aee998",
     "grade": true,
     "grade_id": "cell-7b4261bcf4a898e0",
     "locked": true,
     "points": 1,
     "schema_version": 3,
     "solution": false,
     "task": false
    }
   },
   "outputs": [],
   "source": [
    "# verify the NumPy module is not in scope\n",
    "assert \"numpy\" not in dir()\n",
    "\n",
    "# orthogonal vectors\n",
    "assert isclose(cosine_similarity([2., 0.], [0., 2.]), 0., rel_tol=1.e-2)\n",
    "\n",
    "# if cosine is 0, dot product is also zero\n",
    "assert cosine_similarity([2., 0.], [0., 2.]) == dot_product([2., 0.], [0., 2.])"
   ]
  },
  {
   "cell_type": "markdown",
   "metadata": {
    "deletable": false,
    "editable": false,
    "nbgrader": {
     "cell_type": "markdown",
     "checksum": "babedbc901984007c3561e49596275a1",
     "grade": false,
     "grade_id": "cell-09bc0d22212faa24",
     "locked": true,
     "schema_version": 3,
     "solution": false,
     "task": false
    }
   },
   "source": [
    "# Foundations of clustering\n",
    "\n",
    "Now that you've implemented a few functions to caclulate distance and similarity, we can think about how to represent and compare groups of vectors."
   ]
  },
  {
   "cell_type": "markdown",
   "metadata": {
    "deletable": false,
    "editable": false,
    "nbgrader": {
     "cell_type": "markdown",
     "checksum": "c847523863e3b648ddca324b63cffcda",
     "grade": false,
     "grade_id": "cell-8a8ebfe366a9c496",
     "locked": true,
     "schema_version": 3,
     "solution": false,
     "task": false
    }
   },
   "source": [
    "## Centroids\n",
    "\n",
    "$$\n",
    "c_{x} = \\frac{1}{\\vert X \\vert}\\sum_{x_{i} \\in X} x_{i} \n",
    "$$\n",
    "\n",
    "where $X$ is a matrix and ${x}_{i}$ represents a row (vector) in $X$.\n",
    "\n",
    "A **centroid** is an average or mean vector for some group of vectors.  Generally it does not correspond to an actual vector from the group, but rather one between them all (i.e., the one in the center).  Implement the function `find_centroid` to calculate the centroid for a group of vectors."
   ]
  },
  {
   "cell_type": "code",
   "execution_count": 37,
   "metadata": {
    "deletable": false,
    "nbgrader": {
     "cell_type": "code",
     "checksum": "694c3d8f4d7ed559d72f7c40b9aa9590",
     "grade": false,
     "grade_id": "cell-f8cdd63f8c2269c1",
     "locked": false,
     "schema_version": 3,
     "solution": true,
     "task": false
    }
   },
   "outputs": [],
   "source": [
    "def find_centroid(X: List[List[float]]) -> List[float]:\n",
    "    \"\"\"\n",
    "    Calculates centroid given a matrix X.\n",
    "    X is represented using a list of lists.\n",
    "    Each inner list is a vector.\n",
    "    \"\"\"\n",
    "    # all vectors must have the same dimensionality\n",
    "    assert len(set(len(v) for v in X)) == 1\n",
    "    # YOUR CODE HERE\n",
    "    num_vectors = len(X)\n",
    "    num_dimensions = len(X[0])\n",
    "    \n",
    "    centroid = [0.0] * num_dimensions\n",
    "    \n",
    "    for vector in X:\n",
    "        for i in range(num_dimensions):\n",
    "            centroid[i] += vector[i]\n",
    "    \n",
    "    centroid = [val / num_vectors for val in centroid]\n",
    "    \n",
    "    return centroid"
   ]
  },
  {
   "cell_type": "code",
   "execution_count": 38,
   "metadata": {
    "deletable": false,
    "editable": false,
    "nbgrader": {
     "cell_type": "code",
     "checksum": "3029ebbfa64b560179794700375237ed",
     "grade": true,
     "grade_id": "cell-4164e7df7416851c",
     "locked": true,
     "points": 1,
     "schema_version": 3,
     "solution": false,
     "task": false
    }
   },
   "outputs": [],
   "source": [
    "# verify the NumPy module is not in scope\n",
    "assert \"numpy\" not in dir()\n",
    "\n",
    "m = [\n",
    "    [1, 1, 1],\n",
    "    [5, 5, 5]\n",
    "]\n",
    "\n",
    "res = find_centroid(m)\n",
    "\n",
    "assert test_isclose(res, [3.0, 3.0, 3.0], rel_tol=0)"
   ]
  },
  {
   "cell_type": "code",
   "execution_count": 39,
   "metadata": {
    "deletable": false,
    "editable": false,
    "nbgrader": {
     "cell_type": "code",
     "checksum": "2343ceb62e1325b582397679eb61921b",
     "grade": true,
     "grade_id": "cell-0d9901d0b129bf37",
     "locked": true,
     "points": 1,
     "schema_version": 3,
     "solution": false,
     "task": false
    }
   },
   "outputs": [],
   "source": [
    "# verify the NumPy module is not in scope\n",
    "assert \"numpy\" not in dir()\n",
    "\n",
    "m = [\n",
    "    [1, 1, 1],\n",
    "    [2, 2, 2],\n",
    "    [5, 5, 5]\n",
    "]\n",
    "\n",
    "res = find_centroid(m)\n",
    "\n",
    "assert test_isclose(res, [2.666, 2.666, 2.666], rel_tol=1.e-3)"
   ]
  },
  {
   "cell_type": "markdown",
   "metadata": {
    "deletable": false,
    "editable": false,
    "nbgrader": {
     "cell_type": "markdown",
     "checksum": "a6413d35fa6477f6afba56d7981bdf85",
     "grade": false,
     "grade_id": "cell-f3ae1db983378f3e",
     "locked": true,
     "schema_version": 3,
     "solution": false,
     "task": false
    }
   },
   "source": [
    "## Medoids\n",
    "\n",
    "$$\n",
    "\\mathbf{X}_{medoid} = \\underset{v \\in \\mathbf{X}}{\\text{argmin}}\\frac{\\sum_{x_{i} \\in X} d(v, x_{i})}{\\vert X \\vert}\n",
    "$$\n",
    "\n",
    "$\\ldots$ where \n",
    " - $d$ is some distance function.\n",
    " - $\\text{argmin}$ finds the $v$ with the minimum average distance.\n",
    "\n",
    "\n",
    "Given a group of vectors $\\mathbf{X}$, the **medoid** of $\\mathbf{X}$ is the vector in $\\mathbf{X}$ with the smallest average distance with every other vector in $\\mathbf{X}$ according to some distance function $d$ (e.g. Euclidean distance).  _Note that this is not necessarily the vector in $\\mathbf{X}$ nearest to the centroid._\n",
    "\n",
    "Implement the function `find_mediod` to calculate the medoid for a group of vectors."
   ]
  },
  {
   "cell_type": "code",
   "execution_count": 40,
   "metadata": {
    "deletable": false,
    "nbgrader": {
     "cell_type": "code",
     "checksum": "ef47cbd104e3e78a7e8d0162db2ee3d9",
     "grade": false,
     "grade_id": "cell-e8bafbad400cc929",
     "locked": false,
     "schema_version": 3,
     "solution": true,
     "task": false
    }
   },
   "outputs": [],
   "source": [
    "# type for a function that takes a pair of params representing two vectors and returns a float\n",
    "DistFunction = Callable[[List[float], List[float]], float]\n",
    "\n",
    "def find_medoid(X: List[List[float]], dist_function: DistFunction) -> List[float]:\n",
    "    \"\"\"\n",
    "    Finds the distance medoid of X (i.e., the vector in X that is on average closest to every other vector)\n",
    "    \"\"\"\n",
    "    # YOUR CODE HERE\n",
    "    best_medoid = None\n",
    "    best_average_distance = float('inf')\n",
    "    \n",
    "    for candidate in X:\n",
    "        total_distance = sum(dist_function(candidate, other) for other in X if other != candidate)\n",
    "        average_distance = total_distance / (len(X) - 1)\n",
    "        \n",
    "        if average_distance < best_average_distance:\n",
    "            best_average_distance = average_distance\n",
    "            best_medoid = candidate\n",
    "    \n",
    "    return best_medoid"
   ]
  },
  {
   "cell_type": "code",
   "execution_count": 41,
   "metadata": {
    "deletable": false,
    "editable": false,
    "nbgrader": {
     "cell_type": "code",
     "checksum": "a941497fa73cc39ff1993364ccfa49e4",
     "grade": true,
     "grade_id": "cell-736e9d9aeb2d987d",
     "locked": true,
     "points": 1,
     "schema_version": 3,
     "solution": false,
     "task": false
    }
   },
   "outputs": [],
   "source": [
    "# verify the NumPy module is not in scope\n",
    "assert \"numpy\" not in dir()\n",
    "\n",
    "m = [\n",
    "    [1, 1, 1],\n",
    "    [2, 2, 2],\n",
    "    [5, 5, 5]\n",
    "]\n",
    "\n",
    "res = find_medoid(m, euclidean_distance)\n",
    "\n",
    "assert test_isclose(res, [2., 2., 2.], rel_tol=1.e-3)"
   ]
  },
  {
   "cell_type": "code",
   "execution_count": 42,
   "metadata": {
    "deletable": false,
    "editable": false,
    "nbgrader": {
     "cell_type": "code",
     "checksum": "effe2f05bffba55735c0648f24a59274",
     "grade": true,
     "grade_id": "cell-66865d9dea79aa33",
     "locked": true,
     "points": 1,
     "schema_version": 3,
     "solution": false,
     "task": false
    }
   },
   "outputs": [],
   "source": [
    "# verify the NumPy module is not in scope\n",
    "assert \"numpy\" not in dir()\n",
    "\n",
    "m = [\n",
    "    [1, 1, 1],\n",
    "    [10, 20, 20],\n",
    "    [5, 5, 5]\n",
    "]\n",
    "\n",
    "# cosine distance\n",
    "cdist = lambda x, y: 1 - cosine_similarity(x, y)\n",
    "res = find_medoid(m, cdist)\n",
    "assert test_isclose(res, [1., 1., 1.], rel_tol=1.e-3)"
   ]
  },
  {
   "cell_type": "code",
   "execution_count": 43,
   "metadata": {
    "deletable": false,
    "editable": false,
    "nbgrader": {
     "cell_type": "code",
     "checksum": "4064c8a8be2db29f0581b5d34f033d3d",
     "grade": true,
     "grade_id": "cell-128e86671029cfce",
     "locked": true,
     "points": 1,
     "schema_version": 3,
     "solution": false,
     "task": false
    }
   },
   "outputs": [],
   "source": [
    "# verify the NumPy module is not in scope\n",
    "assert \"numpy\" not in dir()\n",
    "\n",
    "m = [\n",
    "    [3, 5, 1],\n",
    "    [0, 0, 0],\n",
    "    [3, 5, 1],\n",
    "    [3, 5, 1],\n",
    "    [2, 1, 0],\n",
    "    [2, 1, 0],\n",
    "    [2, 1, 0],\n",
    "    [2, 1, 1],\n",
    "    [0, 0, 1],\n",
    "    [-1, -1, 0],\n",
    "    [2, 2, 4]\n",
    "]\n",
    "\n",
    "# cosine distance\n",
    "cdist = lambda x, y: 1 - cosine_similarity(x, y)\n",
    "res = find_medoid(m, cdist)\n",
    "assert test_isclose(res, [2., 1., 1.], rel_tol=1.e-3)"
   ]
  },
  {
   "cell_type": "markdown",
   "metadata": {
    "deletable": false,
    "editable": false,
    "nbgrader": {
     "cell_type": "markdown",
     "checksum": "b15daec7311fa0edbbbda72034ff5f9a",
     "grade": false,
     "grade_id": "cell-9b3d586358cea442",
     "locked": true,
     "schema_version": 3,
     "solution": false,
     "task": false
    }
   },
   "source": [
    "If you've successfully implemented all of these functions, then you now know enough to perform unsupervised learning (clustering)."
   ]
  }
 ],
 "metadata": {
  "kernelspec": {
   "display_name": "Python 3 (ipykernel)",
   "language": "python",
   "name": "python3"
  },
  "language_info": {
   "codemirror_mode": {
    "name": "ipython",
    "version": 3
   },
   "file_extension": ".py",
   "mimetype": "text/x-python",
   "name": "python",
   "nbconvert_exporter": "python",
   "pygments_lexer": "ipython3",
   "version": "3.11.4"
  }
 },
 "nbformat": 4,
 "nbformat_minor": 4
}
